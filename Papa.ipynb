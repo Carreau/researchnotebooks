{
 "cells": [
  {
   "cell_type": "markdown",
   "metadata": {},
   "source": [
    "## Optimisation de la droite tangente"
   ]
  },
  {
   "cell_type": "code",
   "execution_count": 108,
   "metadata": {
    "collapsed": false
   },
   "outputs": [],
   "source": [
    "import numpy as np\n",
    "import matplotlib.pyplot as plt\n",
    "%matplotlib inline"
   ]
  },
  {
   "cell_type": "markdown",
   "metadata": {},
   "source": [
    "Définition des points"
   ]
  },
  {
   "cell_type": "markdown",
   "metadata": {},
   "source": [
    "Dans l'absence de données réel, données aléatoirement générées"
   ]
  },
  {
   "cell_type": "code",
   "execution_count": 228,
   "metadata": {
    "collapsed": false
   },
   "outputs": [
    {
     "data": {
      "text/plain": [
       "[<matplotlib.lines.Line2D at 0x10c4ad828>]"
      ]
     },
     "execution_count": 228,
     "metadata": {},
     "output_type": "execute_result"
    },
    {
     "data": {
      "image/png": "[encoded data removed]",
      "text/plain": [
       "<matplotlib.figure.Figure at 0x10c23a710>"
      ]
     },
     "metadata": {},
     "output_type": "display_data"
    }
   ],
   "source": [
    "N = 20 #Nombre de points\n",
    "L = 100 #Intervalle de variation de X\n",
    "X = [i*L/N for i in range(0,N)] \n",
    "Y = np.random.uniform(0,10,N)\n",
    "plt.plot(X,Y,\"o-\")"
   ]
  },
  {
   "cell_type": "markdown",
   "metadata": {},
   "source": [
    "Définition de la fonction qui comparer deux courbes pour savoir si elles se coupent"
   ]
  },
  {
   "cell_type": "code",
   "execution_count": 229,
   "metadata": {
    "collapsed": true
   },
   "outputs": [],
   "source": [
    "def dontcut(X,Y,Yd,debug=False):\n",
    "    c = 0\n",
    "    if (Yd[0]-Y[0])*(Yd[-1]-Y[-1])<0.0:\n",
    "        c = 1\n",
    "    for i in range(1,len(X)-2):\n",
    "        if (Yd[i]-Y[i])*(Yd[i+1]-Y[i+1])<0.0 or (Yd[i-1]-Y[i-1])*(Yd[i+2]-Y[i+2])<0.0:\n",
    "            c = 1\n",
    "        if debug:\n",
    "            print(Yd[i],Y[i],(Yd[i]-Y[i])*(Yd[i+1]-Y[i+1]),(Yd[i-1]-Y[i-1])*(Yd[i+1]-Y[i+1]))\n",
    "\n",
    "    if c == 0:\n",
    "        return True\n",
    "    else:\n",
    "        return False"
   ]
  },
  {
   "cell_type": "markdown",
   "metadata": {},
   "source": [
    "Générer l'ensemble des lignes définies à partir de deux points quelconque de la courbe qui ne coupent pas la courbe"
   ]
  },
  {
   "cell_type": "code",
   "execution_count": 216,
   "metadata": {
    "collapsed": false
   },
   "outputs": [],
   "source": [
    "def lines(X,Y):\n",
    "    candidates = []\n",
    "    for i in range(0,len(X)):\n",
    "        for j in range(0,len(X)):\n",
    "            if i != j:\n",
    "                d = (Y[i]-Y[j])/(X[i]-X[j])\n",
    "                Yd = [d*(u-X[i])+Y[i] for u in X]\n",
    "                if dontcut(X,Y,Yd):\n",
    "                    candidates.append(Yd)\n",
    "    return candidates"
   ]
  },
  {
   "cell_type": "markdown",
   "metadata": {},
   "source": [
    "Fonction d'optimisation moindre carrée"
   ]
  },
  {
   "cell_type": "code",
   "execution_count": 224,
   "metadata": {
    "collapsed": true
   },
   "outputs": [],
   "source": [
    "def selectBest(X,Y,candidates):\n",
    "    sort = []\n",
    "    for l in candidates:\n",
    "        s = sum(((Y[i]-l[i])**2 for i in range(0,len(l))))\n",
    "        sort.append([s,l])\n",
    "    return sorted(sort)[0][1]"
   ]
  },
  {
   "cell_type": "markdown",
   "metadata": {},
   "source": [
    "Résultat final "
   ]
  },
  {
   "cell_type": "code",
   "execution_count": 230,
   "metadata": {
    "collapsed": false
   },
   "outputs": [
    {
     "data": {
      "text/plain": [
       "[<matplotlib.lines.Line2D at 0x10be816d8>]"
      ]
     },
     "execution_count": 230,
     "metadata": {},
     "output_type": "execute_result"
    },
    {
     "data": {
      "image/png": "[encoded data removed]",
      "text/plain": [
       "<matplotlib.figure.Figure at 0x10be68f28>"
      ]
     },
     "metadata": {},
     "output_type": "display_data"
    }
   ],
   "source": [
    "plt.plot(X,Y,linewidth=4)\n",
    "L = lines(X,Y)\n",
    "plt.plot(X,selectBest(X,Y,L))"
   ]
  },
  {
   "cell_type": "code",
   "execution_count": 231,
   "metadata": {
    "collapsed": false
   },
   "outputs": [
    {
     "data": {
      "text/plain": [
       "array([ 0.00478173, -0.01693393])"
      ]
     },
     "execution_count": 231,
     "metadata": {},
     "output_type": "execute_result"
    }
   ],
   "source": [
    "np.polyfit(X,selectBest(X,Y,L),deg=1)"
   ]
  },
  {
   "cell_type": "markdown",
   "metadata": {},
   "source": [
    "Autre solution avec la tangente"
   ]
  },
  {
   "cell_type": "code",
   "execution_count": 149,
   "metadata": {
    "collapsed": false
   },
   "outputs": [],
   "source": [
    "def add_line(X,Y,D):\n",
    "    lines = []\n",
    "    for i in range(0,len(D)):\n",
    "        Yd = [D[i]*(j-X[i+1])+Y[i+1] for j in X]\n",
    "        lines.append(Yd)\n",
    "    return lines\n",
    "\n",
    "def filterCross(Y,Yd):\n",
    "    Lnc = []\n",
    "    for L in Yd:\n",
    "        c = 0\n",
    "        for i in range(1,len(Y)-1):\n",
    "            if (L[i]-Y[i])*(L[i+1]-Y[i+1])<0 or (L[i-1]-Y[i-1])*(L[i+1]-Y[i+1])<0:\n",
    "                c = 1\n",
    "        if c == 0:\n",
    "            Lnc.append(L)\n",
    "    \n",
    "    if len(Lnc) == 0:\n",
    "        print(\"Pas de droite tangente non séquente\")\n",
    "        return []\n",
    "    else:\n",
    "        sort = []\n",
    "        for l in Lnc:\n",
    "            s = sum(((Y[i]-l[i])**2 for i in range(0,len(l))))\n",
    "            sort.append([s,l])\n",
    "        print(\"Solution trouvée\")\n",
    "        return sorted(sort)[0][1]\n",
    "\n",
    "D = []\n",
    "for i in range(1,N-1):\n",
    "    D.append((Y[i+1]-Y[i-1])/(X[i+1]-X[i-1]))"
   ]
  }
 ],
 "metadata": {
  "kernelspec": {
   "display_name": "Python 3",
   "language": "python",
   "name": "python3"
  },
  "language_info": {
   "codemirror_mode": {
    "name": "ipython",
    "version": 3
   },
   "file_extension": ".py",
   "mimetype": "text/x-python",
   "name": "python",
   "nbconvert_exporter": "python",
   "pygments_lexer": "ipython3",
   "version": "3.4.3"
  }
 },
 "nbformat": 4,
 "nbformat_minor": 0
}
