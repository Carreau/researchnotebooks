{
 "cells": [
  {
   "cell_type": "markdown",
   "metadata": {},
   "source": [
    "#Analyse books title from WorlCat.org"
   ]
  },
  {
   "cell_type": "markdown",
   "metadata": {},
   "source": [
    "## Get books information (scrapper)"
   ]
  },
  {
   "cell_type": "code",
   "execution_count": 1,
   "metadata": {
    "collapsed": false
   },
   "outputs": [],
   "source": [
    "import requests\n",
    "import bs4\n",
    "import os"
   ]
  },
  {
   "cell_type": "code",
   "execution_count": 2,
   "metadata": {
    "collapsed": false
   },
   "outputs": [],
   "source": [
    "#Download the files if not\n",
    "\n",
    "num = 6070 #numbers of titles \n",
    "urltemplate = \"https://www.worldcat.org/search?q=kw%3A%22scientific+computing%22&fq=x0%3Abook&dblist=638&\"+\\\n",
    "    \"start={pagenum}&qt=page_number_link\"\n",
    "\n",
    "if not os.path.exists(\"worlcat\"):\n",
    "    os.mkdir(\"worldcat\")\n",
    "\n",
    "for i in range(1,num,10):\n",
    "    if os.path.exists(\"worldcat/req\"+str(i)):\n",
    "        continue\n",
    "    url = urltemplate.format(pagenum=str(i))\n",
    "    req = requests.get(url)\n",
    "    with open(\"worldcat/req\"+str(i),\"wb\") as f:\n",
    "        f.write(req.content)"
   ]
  },
  {
   "cell_type": "code",
   "execution_count": 64,
   "metadata": {
    "collapsed": false
   },
   "outputs": [
    {
     "name": "stdout",
     "output_type": "stream",
     "text": [
      "There is 6070 book titles\n"
     ]
    }
   ],
   "source": [
    "#Parse information\n",
    "titles = []\n",
    "for i in os.listdir(\"worldcat\"):\n",
    "    if \"req\" in i:\n",
    "        with open(\"worldcat/\"+i,\"r\") as f:\n",
    "            content = \"\\n\".join(f.readlines())\n",
    "        page = bs4.BeautifulSoup(content,\"html.parser\")\n",
    "        for t in page.find(id=\"br-table-results\").findAll(\"td\", { \"class\" : \"result\" }):\n",
    "            try:\n",
    "                titles.append((t.find(\"strong\").contents[0],t.find(\"span\",{\"class\" : \"itemPublisher\"}).contents[0]))\n",
    "            except:\n",
    "                titles.append((t.find(\"strong\").contents[0],\"NA\"))\n",
    "print(\"There is {num} book titles\".format(num=len(titles)))"
   ]
  },
  {
   "cell_type": "code",
   "execution_count": 168,
   "metadata": {
    "collapsed": false
   },
   "outputs": [
    {
     "name": "stdout",
     "output_type": "stream",
     "text": [
      "There is 908 book titles\n"
     ]
    }
   ],
   "source": [
    "#cleaning data (differents rules)\n",
    "a = dict(pd.Series([str(i[0]).lower() for i in titles]).value_counts())\n",
    "\n",
    "#repetition from the same title too much\n",
    "remove = [i for i in a if a[i]>11]\n",
    "\n",
    "#remove proceedings\n",
    "titles = [i for i in titles if not str(i[0]).lower() in remove and \"scientific computing\" in str(i[0]).lower()\\\n",
    "         and not \"proceedings\" in str(i[0]).lower()\\\n",
    "         and not \"conference\" in str(i[0]).lower()\\\n",
    "         and not \"workshop\" in str(i[0]).lower()\\\n",
    "         and not \"symposium\" in str(i[0]).lower()]\n",
    "\n",
    "print(\"There is {num} book titles\".format(num=len(titles)))"
   ]
  },
  {
   "cell_type": "markdown",
   "metadata": {},
   "source": [
    "#Analyse titles"
   ]
  },
  {
   "cell_type": "code",
   "execution_count": 166,
   "metadata": {
    "collapsed": false
   },
   "outputs": [],
   "source": [
    "import pylab as pl\n",
    "import pandas as pd\n",
    "from nltk.corpus import stopwords\n",
    "from nltk import word_tokenize\n",
    "from nltk.stem.porter import PorterStemmer\n",
    "import string\n",
    "import re\n",
    "import matplotlib as mp\n",
    "%matplotlib inline"
   ]
  },
  {
   "cell_type": "markdown",
   "metadata": {},
   "source": [
    "## Evolution  number of books published"
   ]
  },
  {
   "cell_type": "code",
   "execution_count": 261,
   "metadata": {
    "collapsed": false
   },
   "outputs": [
    {
     "data": {
      "text/plain": [
       "<matplotlib.text.Text at 0x89cd66ac>"
      ]
     },
     "execution_count": 261,
     "metadata": {},
     "output_type": "execute_result"
    },
    {
     "data": {
      "image/png": "[encoded data removed]",
      "text/plain": [
       "<matplotlib.figure.Figure at 0x89cdb84c>"
      ]
     },
     "metadata": {},
     "output_type": "display_data"
    }
   ],
   "source": [
    "years = []\n",
    "texts2 = []\n",
    "for i in titles:\n",
    "    try:\n",
    "        t = re.findall(\"([0-9]{4})\",i[1])\n",
    "    except:\n",
    "        t=\"na\"\n",
    "    if len(t)>0 and t != \"na\":\n",
    "        years.append(int(t[0]))\n",
    "        texts2.append((i[0],t[0]))\n",
    "    else:\n",
    "        texts2.append((i[0],0))\n",
    "        \n",
    "a = pd.Series([i for i in years if i<2015 and i>1900])\n",
    "b = a.hist(bins=40)\n",
    "pl.title(\"Number of books dealing with scientific computing\")\n",
    "pl.xlabel(\"Year of publication\")\n"
   ]
  },
  {
   "cell_type": "markdown",
   "metadata": {},
   "source": [
    "## Comparison with google N-gram"
   ]
  },
  {
   "cell_type": "code",
   "execution_count": 91,
   "metadata": {
    "collapsed": false
   },
   "outputs": [
    {
     "data": {
      "text/plain": [
       "[<matplotlib.lines.Line2D at 0x8a86646c>]"
      ]
     },
     "execution_count": 91,
     "metadata": {},
     "output_type": "execute_result"
    },
    {
     "data": {
      "image/png": "[encoded data removed]",
      "text/plain": [
       "<matplotlib.figure.Figure at 0x8ac5dd8c>"
      ]
     },
     "metadata": {},
     "output_type": "display_data"
    }
   ],
   "source": [
    "# https://books.google.com/ngrams/graph?content=scientific+computing&year_start=1930&year_end=2008&corpus=15&smoothing=1&share=&direct_url=t1%3B%2Cscientific%20computing%3B%2Cc0\n",
    "a=  [0.0, 0.0, 3.4695161558554827e-10, 3.4695161558554827e-10, 3.4695161558554827e-10, 0.0, 5.156557773370688e-10, 1.0194078914338434e-09, 1.0194078914338434e-09, 5.0375211409677456e-10, 2.9298698652387617e-10, 5.9675518230643354e-10, 2.0241754383754085e-09, 2.1223283500996595e-09, 3.8772419719279583e-09, 5.6196949686319426e-09, 5.4579962031435043e-09, 4.2551992300114234e-09, 1.4728941029792015e-09, 3.3709237623469335e-09, 2.7133102246483056e-09, 2.3257420989075683e-09, 1.597333358175727e-09, 1.3990620513955794e-09, 1.7620095012678878e-09, 1.0626310202136817e-09, 6.7617900908108668e-09, 8.9724817205668241e-09, 1.0891105794996747e-08, 7.5004972603191309e-09, 1.087119239073786e-08, 1.3782588847988109e-08, 1.4488048686682001e-08, 1.3210601205552544e-08, 1.1440794089878636e-08, 1.1547589551241799e-08, 1.2100773124264682e-08, 1.1308539882293189e-08, 1.2627208612059349e-08, 1.2781045259184035e-08, 2.4005328687811318e-08, 2.4671765667487005e-08, 2.5018773423350165e-08, 1.3970456199293343e-08, 1.4673776268144442e-08, 1.546954978929686e-08, 1.6965617355424456e-08, 1.8141595189054744e-08, 1.7235879390398168e-08, 1.8793308835067062e-08, 1.8667733433138285e-08, 2.1453814132617783e-08, 2.219857483017525e-08, 2.322866343718033e-08, 2.4334533795430009e-08, 3.0973142865301874e-08, 4.3178831177215216e-08, 4.9049395064078759e-08, 5.2860117468374788e-08, 5.9221722636948471e-08, 6.2433854234692873e-08, 6.4799046128882765e-08, 5.6681023134312149e-08, 5.5802830208525243e-08, 4.9005915769839703e-08, 4.9211746973772584e-08, 4.9806985202849319e-08, 5.1457671901289359e-08, 5.456425948106395e-08, 5.1941514792967304e-08, 5.5361535800102502e-08, 5.5291312861527331e-08, 6.139100131955881e-08, 6.1094646971090086e-08, 6.0430933738568157e-08, 5.4970995459295104e-08, 5.1347556725052833e-08, 4.2185427891657433e-08, 3.8798637191916896e-08]\n",
    "pl.plot(range(1930, 2009),a)"
   ]
  },
  {
   "cell_type": "markdown",
   "metadata": {},
   "source": [
    "**Analysis**\n",
    "*The analysis of trend (either Google Ngram or WorldCat) shows a bimodal distribution of books on computational sciences : we can make the hypothesis that \"scientific computing\" went through two different era*"
   ]
  },
  {
   "cell_type": "markdown",
   "metadata": {},
   "source": [
    "## Words analysis of titles"
   ]
  },
  {
   "cell_type": "code",
   "execution_count": 358,
   "metadata": {
    "collapsed": false
   },
   "outputs": [],
   "source": [
    "texts_total = [i for i in texts2 if len(str(i[0]).split())<30] #lengths max of titles\n",
    "\n",
    "stoplist = stopwords.words('english') + list(string.punctuation) #stoplist\n",
    "\n",
    "texts_total = [([word.replace(\" \",\"\").replace(\".\",\"\").replace(\",\",\"\").replace(\"(\",\"\").replace(\")\",\"\")\\\n",
    "                 .replace('\"',\"\").replace(\"]\",\"\").replace(\"[\",\"\")\\\n",
    "          for word in str(document[0]).lower().split() if word not in stoplist],document[1])\n",
    "          for document in texts_total] #remove words from stoplist\n",
    "\n",
    "#remove one time words\n",
    "l = pd.Series([i for j in texts_total for i in j[0]])\n",
    "t = dict(l.value_counts())\n",
    "adhocfilter = [u for u in t if t[u]<2] + ['1','2',\"'88\"]\n",
    "w = [u for u in t if not u in adhocfilter]\n",
    "\n",
    "#porter_stemmer = PorterStemmer() #stemmer\n",
    "#texts_total = [([porter_stemmer.stem(token) for token in text[0] if token in w],text[1])\n",
    "#          for text in texts_total]\n",
    "\n",
    "texts_total = [([token for token in text[0] if token in w],text[1])\n",
    "          for text in texts_total]\n",
    "\n",
    "\n",
    "texts_all = [i[0] for i in texts_total]\n",
    "texts_t1 = [i[0] for i in texts_total if int(i[1])<2000]\n",
    "texts_t2 = [i[0] for i in texts_total if int(i[1])>2000]"
   ]
  },
  {
   "cell_type": "markdown",
   "metadata": {},
   "source": [
    "Words used in the title regarding each period"
   ]
  },
  {
   "cell_type": "code",
   "execution_count": 359,
   "metadata": {
    "collapsed": false
   },
   "outputs": [
    {
     "data": {
      "text/html": [
       "<div>\n",
       "<table border=\"1\" class=\"dataframe\">\n",
       "  <thead>\n",
       "    <tr style=\"text-align: right;\">\n",
       "      <th></th>\n",
       "      <th>alltitles</th>\n",
       "      <th>alltitlesperc</th>\n",
       "      <th>before2000</th>\n",
       "      <th>before2000perc</th>\n",
       "      <th>after2000</th>\n",
       "      <th>after2000perc</th>\n",
       "    </tr>\n",
       "  </thead>\n",
       "  <tbody>\n",
       "    <tr>\n",
       "      <th>scientific</th>\n",
       "      <td>914</td>\n",
       "      <td>102.581369</td>\n",
       "      <td>525</td>\n",
       "      <td>103.143418</td>\n",
       "      <td>371</td>\n",
       "      <td>101.923077</td>\n",
       "    </tr>\n",
       "    <tr>\n",
       "      <th>computing</th>\n",
       "      <td>888</td>\n",
       "      <td>99.663300</td>\n",
       "      <td>512</td>\n",
       "      <td>100.589391</td>\n",
       "      <td>358</td>\n",
       "      <td>98.351648</td>\n",
       "    </tr>\n",
       "    <tr>\n",
       "      <th>numerical</th>\n",
       "      <td>136</td>\n",
       "      <td>15.263749</td>\n",
       "      <td>91</td>\n",
       "      <td>17.878193</td>\n",
       "      <td>44</td>\n",
       "      <td>12.087912</td>\n",
       "    </tr>\n",
       "    <tr>\n",
       "      <th>parallel</th>\n",
       "      <td>90</td>\n",
       "      <td>10.101010</td>\n",
       "      <td>46</td>\n",
       "      <td>9.037328</td>\n",
       "      <td>41</td>\n",
       "      <td>11.263736</td>\n",
       "    </tr>\n",
       "    <tr>\n",
       "      <th>recipes</th>\n",
       "      <td>67</td>\n",
       "      <td>7.519641</td>\n",
       "      <td>59</td>\n",
       "      <td>11.591356</td>\n",
       "      <td>NaN</td>\n",
       "      <td>NaN</td>\n",
       "    </tr>\n",
       "    <tr>\n",
       "      <th>art</th>\n",
       "      <td>67</td>\n",
       "      <td>7.519641</td>\n",
       "      <td>56</td>\n",
       "      <td>11.001965</td>\n",
       "      <td>11</td>\n",
       "      <td>3.021978</td>\n",
       "    </tr>\n",
       "    <tr>\n",
       "      <th>applications</th>\n",
       "      <td>64</td>\n",
       "      <td>7.182941</td>\n",
       "      <td>25</td>\n",
       "      <td>4.911591</td>\n",
       "      <td>39</td>\n",
       "      <td>10.714286</td>\n",
       "    </tr>\n",
       "    <tr>\n",
       "      <th>introduction</th>\n",
       "      <td>53</td>\n",
       "      <td>5.948373</td>\n",
       "      <td>19</td>\n",
       "      <td>3.732809</td>\n",
       "      <td>34</td>\n",
       "      <td>9.340659</td>\n",
       "    </tr>\n",
       "    <tr>\n",
       "      <th>methods</th>\n",
       "      <td>49</td>\n",
       "      <td>5.499439</td>\n",
       "      <td>20</td>\n",
       "      <td>3.929273</td>\n",
       "      <td>28</td>\n",
       "      <td>7.692308</td>\n",
       "    </tr>\n",
       "    <tr>\n",
       "      <th>analysis</th>\n",
       "      <td>47</td>\n",
       "      <td>5.274972</td>\n",
       "      <td>28</td>\n",
       "      <td>5.500982</td>\n",
       "      <td>19</td>\n",
       "      <td>5.219780</td>\n",
       "    </tr>\n",
       "    <tr>\n",
       "      <th>engineering</th>\n",
       "      <td>44</td>\n",
       "      <td>4.938272</td>\n",
       "      <td>22</td>\n",
       "      <td>4.322200</td>\n",
       "      <td>21</td>\n",
       "      <td>5.769231</td>\n",
       "    </tr>\n",
       "    <tr>\n",
       "      <th>applied</th>\n",
       "      <td>38</td>\n",
       "      <td>4.264871</td>\n",
       "      <td>17</td>\n",
       "      <td>3.339882</td>\n",
       "      <td>21</td>\n",
       "      <td>5.769231</td>\n",
       "    </tr>\n",
       "    <tr>\n",
       "      <th>report</th>\n",
       "      <td>34</td>\n",
       "      <td>3.815937</td>\n",
       "      <td>19</td>\n",
       "      <td>3.732809</td>\n",
       "      <td>13</td>\n",
       "      <td>3.571429</td>\n",
       "    </tr>\n",
       "    <tr>\n",
       "      <th>using</th>\n",
       "      <td>34</td>\n",
       "      <td>3.815937</td>\n",
       "      <td>NaN</td>\n",
       "      <td>NaN</td>\n",
       "      <td>23</td>\n",
       "      <td>6.318681</td>\n",
       "    </tr>\n",
       "    <tr>\n",
       "      <th>fortran</th>\n",
       "      <td>34</td>\n",
       "      <td>3.815937</td>\n",
       "      <td>31</td>\n",
       "      <td>6.090373</td>\n",
       "      <td>NaN</td>\n",
       "      <td>NaN</td>\n",
       "    </tr>\n",
       "    <tr>\n",
       "      <th>system</th>\n",
       "      <td>31</td>\n",
       "      <td>3.479237</td>\n",
       "      <td>23</td>\n",
       "      <td>4.518664</td>\n",
       "      <td>NaN</td>\n",
       "      <td>NaN</td>\n",
       "    </tr>\n",
       "    <tr>\n",
       "      <th>science</th>\n",
       "      <td>30</td>\n",
       "      <td>3.367003</td>\n",
       "      <td>18</td>\n",
       "      <td>3.536346</td>\n",
       "      <td>11</td>\n",
       "      <td>3.021978</td>\n",
       "    </tr>\n",
       "    <tr>\n",
       "      <th>visualization</th>\n",
       "      <td>30</td>\n",
       "      <td>3.367003</td>\n",
       "      <td>24</td>\n",
       "      <td>4.715128</td>\n",
       "      <td>NaN</td>\n",
       "      <td>NaN</td>\n",
       "    </tr>\n",
       "    <tr>\n",
       "      <th>advanced</th>\n",
       "      <td>30</td>\n",
       "      <td>3.367003</td>\n",
       "      <td>16</td>\n",
       "      <td>3.143418</td>\n",
       "      <td>14</td>\n",
       "      <td>3.846154</td>\n",
       "    </tr>\n",
       "    <tr>\n",
       "      <th>computational</th>\n",
       "      <td>29</td>\n",
       "      <td>3.254770</td>\n",
       "      <td>NaN</td>\n",
       "      <td>NaN</td>\n",
       "      <td>18</td>\n",
       "      <td>4.945055</td>\n",
       "    </tr>\n",
       "    <tr>\n",
       "      <th>matlab</th>\n",
       "      <td>29</td>\n",
       "      <td>3.254770</td>\n",
       "      <td>NaN</td>\n",
       "      <td>NaN</td>\n",
       "      <td>25</td>\n",
       "      <td>6.868132</td>\n",
       "    </tr>\n",
       "    <tr>\n",
       "      <th>software</th>\n",
       "      <td>29</td>\n",
       "      <td>3.254770</td>\n",
       "      <td>16</td>\n",
       "      <td>3.143418</td>\n",
       "      <td>10</td>\n",
       "      <td>2.747253</td>\n",
       "    </tr>\n",
       "    <tr>\n",
       "      <th>performance</th>\n",
       "      <td>28</td>\n",
       "      <td>3.142536</td>\n",
       "      <td>NaN</td>\n",
       "      <td>NaN</td>\n",
       "      <td>17</td>\n",
       "      <td>4.670330</td>\n",
       "    </tr>\n",
       "    <tr>\n",
       "      <th>systems</th>\n",
       "      <td>28</td>\n",
       "      <td>3.142536</td>\n",
       "      <td>19</td>\n",
       "      <td>3.732809</td>\n",
       "      <td>9</td>\n",
       "      <td>2.472527</td>\n",
       "    </tr>\n",
       "    <tr>\n",
       "      <th>computer</th>\n",
       "      <td>27</td>\n",
       "      <td>3.030303</td>\n",
       "      <td>17</td>\n",
       "      <td>3.339882</td>\n",
       "      <td>NaN</td>\n",
       "      <td>NaN</td>\n",
       "    </tr>\n",
       "    <tr>\n",
       "      <th>environment</th>\n",
       "      <td>27</td>\n",
       "      <td>3.030303</td>\n",
       "      <td>21</td>\n",
       "      <td>4.125737</td>\n",
       "      <td>NaN</td>\n",
       "      <td>NaN</td>\n",
       "    </tr>\n",
       "    <tr>\n",
       "      <th>research</th>\n",
       "      <td>26</td>\n",
       "      <td>2.918070</td>\n",
       "      <td>NaN</td>\n",
       "      <td>NaN</td>\n",
       "      <td>15</td>\n",
       "      <td>4.120879</td>\n",
       "    </tr>\n",
       "    <tr>\n",
       "      <th>mathematics</th>\n",
       "      <td>26</td>\n",
       "      <td>2.918070</td>\n",
       "      <td>12</td>\n",
       "      <td>2.357564</td>\n",
       "      <td>14</td>\n",
       "      <td>3.846154</td>\n",
       "    </tr>\n",
       "    <tr>\n",
       "      <th>simulation</th>\n",
       "      <td>24</td>\n",
       "      <td>2.693603</td>\n",
       "      <td>14</td>\n",
       "      <td>2.750491</td>\n",
       "      <td>NaN</td>\n",
       "      <td>NaN</td>\n",
       "    </tr>\n",
       "    <tr>\n",
       "      <th>imacs</th>\n",
       "      <td>24</td>\n",
       "      <td>2.693603</td>\n",
       "      <td>24</td>\n",
       "      <td>4.715128</td>\n",
       "      <td>NaN</td>\n",
       "      <td>NaN</td>\n",
       "    </tr>\n",
       "    <tr>\n",
       "      <th>problems</th>\n",
       "      <td>23</td>\n",
       "      <td>2.581369</td>\n",
       "      <td>NaN</td>\n",
       "      <td>NaN</td>\n",
       "      <td>16</td>\n",
       "      <td>4.395604</td>\n",
       "    </tr>\n",
       "    <tr>\n",
       "      <th>algorithms</th>\n",
       "      <td>22</td>\n",
       "      <td>2.469136</td>\n",
       "      <td>NaN</td>\n",
       "      <td>NaN</td>\n",
       "      <td>19</td>\n",
       "      <td>5.219780</td>\n",
       "    </tr>\n",
       "    <tr>\n",
       "      <th>c</th>\n",
       "      <td>21</td>\n",
       "      <td>2.356902</td>\n",
       "      <td>19</td>\n",
       "      <td>3.732809</td>\n",
       "      <td>NaN</td>\n",
       "      <td>NaN</td>\n",
       "    </tr>\n",
       "    <tr>\n",
       "      <th>program</th>\n",
       "      <td>21</td>\n",
       "      <td>2.356902</td>\n",
       "      <td>13</td>\n",
       "      <td>2.554028</td>\n",
       "      <td>8</td>\n",
       "      <td>2.197802</td>\n",
       "    </tr>\n",
       "    <tr>\n",
       "      <th>data</th>\n",
       "      <td>21</td>\n",
       "      <td>2.356902</td>\n",
       "      <td>NaN</td>\n",
       "      <td>NaN</td>\n",
       "      <td>13</td>\n",
       "      <td>3.571429</td>\n",
       "    </tr>\n",
       "    <tr>\n",
       "      <th>high-performance</th>\n",
       "      <td>21</td>\n",
       "      <td>2.356902</td>\n",
       "      <td>NaN</td>\n",
       "      <td>NaN</td>\n",
       "      <td>11</td>\n",
       "      <td>3.021978</td>\n",
       "    </tr>\n",
       "    <tr>\n",
       "      <th>part</th>\n",
       "      <td>20</td>\n",
       "      <td>2.244669</td>\n",
       "      <td>NaN</td>\n",
       "      <td>NaN</td>\n",
       "      <td>NaN</td>\n",
       "      <td>NaN</td>\n",
       "    </tr>\n",
       "    <tr>\n",
       "      <th>large</th>\n",
       "      <td>20</td>\n",
       "      <td>2.244669</td>\n",
       "      <td>NaN</td>\n",
       "      <td>NaN</td>\n",
       "      <td>9</td>\n",
       "      <td>2.472527</td>\n",
       "    </tr>\n",
       "    <tr>\n",
       "      <th>transactions</th>\n",
       "      <td>19</td>\n",
       "      <td>2.132435</td>\n",
       "      <td>19</td>\n",
       "      <td>3.732809</td>\n",
       "      <td>NaN</td>\n",
       "      <td>NaN</td>\n",
       "    </tr>\n",
       "    <tr>\n",
       "      <th>papers</th>\n",
       "      <td>19</td>\n",
       "      <td>2.132435</td>\n",
       "      <td>16</td>\n",
       "      <td>3.143418</td>\n",
       "      <td>NaN</td>\n",
       "      <td>NaN</td>\n",
       "    </tr>\n",
       "  </tbody>\n",
       "</table>\n",
       "</div>"
      ],
      "text/plain": [
       "                  alltitles  alltitlesperc  before2000  before2000perc  \\\n",
       "scientific              914     102.581369         525      103.143418   \n",
       "computing               888      99.663300         512      100.589391   \n",
       "numerical               136      15.263749          91       17.878193   \n",
       "parallel                 90      10.101010          46        9.037328   \n",
       "recipes                  67       7.519641          59       11.591356   \n",
       "art                      67       7.519641          56       11.001965   \n",
       "applications             64       7.182941          25        4.911591   \n",
       "introduction             53       5.948373          19        3.732809   \n",
       "methods                  49       5.499439          20        3.929273   \n",
       "analysis                 47       5.274972          28        5.500982   \n",
       "engineering              44       4.938272          22        4.322200   \n",
       "applied                  38       4.264871          17        3.339882   \n",
       "report                   34       3.815937          19        3.732809   \n",
       "using                    34       3.815937         NaN             NaN   \n",
       "fortran                  34       3.815937          31        6.090373   \n",
       "system                   31       3.479237          23        4.518664   \n",
       "science                  30       3.367003          18        3.536346   \n",
       "visualization            30       3.367003          24        4.715128   \n",
       "advanced                 30       3.367003          16        3.143418   \n",
       "computational            29       3.254770         NaN             NaN   \n",
       "matlab                   29       3.254770         NaN             NaN   \n",
       "software                 29       3.254770          16        3.143418   \n",
       "performance              28       3.142536         NaN             NaN   \n",
       "systems                  28       3.142536          19        3.732809   \n",
       "computer                 27       3.030303          17        3.339882   \n",
       "environment              27       3.030303          21        4.125737   \n",
       "research                 26       2.918070         NaN             NaN   \n",
       "mathematics              26       2.918070          12        2.357564   \n",
       "simulation               24       2.693603          14        2.750491   \n",
       "imacs                    24       2.693603          24        4.715128   \n",
       "problems                 23       2.581369         NaN             NaN   \n",
       "algorithms               22       2.469136         NaN             NaN   \n",
       "c                        21       2.356902          19        3.732809   \n",
       "program                  21       2.356902          13        2.554028   \n",
       "data                     21       2.356902         NaN             NaN   \n",
       "high-performance         21       2.356902         NaN             NaN   \n",
       "part                     20       2.244669         NaN             NaN   \n",
       "large                    20       2.244669         NaN             NaN   \n",
       "transactions             19       2.132435          19        3.732809   \n",
       "papers                   19       2.132435          16        3.143418   \n",
       "\n",
       "                  after2000  after2000perc  \n",
       "scientific              371     101.923077  \n",
       "computing               358      98.351648  \n",
       "numerical                44      12.087912  \n",
       "parallel                 41      11.263736  \n",
       "recipes                 NaN            NaN  \n",
       "art                      11       3.021978  \n",
       "applications             39      10.714286  \n",
       "introduction             34       9.340659  \n",
       "methods                  28       7.692308  \n",
       "analysis                 19       5.219780  \n",
       "engineering              21       5.769231  \n",
       "applied                  21       5.769231  \n",
       "report                   13       3.571429  \n",
       "using                    23       6.318681  \n",
       "fortran                 NaN            NaN  \n",
       "system                  NaN            NaN  \n",
       "science                  11       3.021978  \n",
       "visualization           NaN            NaN  \n",
       "advanced                 14       3.846154  \n",
       "computational            18       4.945055  \n",
       "matlab                   25       6.868132  \n",
       "software                 10       2.747253  \n",
       "performance              17       4.670330  \n",
       "systems                   9       2.472527  \n",
       "computer                NaN            NaN  \n",
       "environment             NaN            NaN  \n",
       "research                 15       4.120879  \n",
       "mathematics              14       3.846154  \n",
       "simulation              NaN            NaN  \n",
       "imacs                   NaN            NaN  \n",
       "problems                 16       4.395604  \n",
       "algorithms               19       5.219780  \n",
       "c                       NaN            NaN  \n",
       "program                   8       2.197802  \n",
       "data                     13       3.571429  \n",
       "high-performance         11       3.021978  \n",
       "part                    NaN            NaN  \n",
       "large                     9       2.472527  \n",
       "transactions            NaN            NaN  \n",
       "papers                  NaN            NaN  "
      ]
     },
     "execution_count": 359,
     "metadata": {},
     "output_type": "execute_result"
    }
   ],
   "source": [
    "data_words = pd.DataFrame()\n",
    "data_words[\"alltitles\"] = pd.Series([j for i in texts_all for j in i]).value_counts()[0:40]\n",
    "data_words[\"alltitlesperc\"] = pd.Series([j for i in texts_all for j in i]).value_counts()[0:40]*100/len(texts_all)\n",
    "data_words[\"before2000\"] = pd.Series([j for i in texts_t1 for j in i]).value_counts()[0:40]\n",
    "data_words[\"before2000perc\"] = pd.Series([j for i in texts_t1 for j in i]).value_counts()[0:40]*100/len(texts_t1)\n",
    "data_words[\"after2000\"] = pd.Series([j for i in texts_t2 for j in i]).value_counts()[0:40]\n",
    "data_words[\"after2000perc\"] = pd.Series([j for i in texts_t2 for j in i]).value_counts()[0:40]*100/len(texts_t2)\n",
    "data_words"
   ]
  },
  {
   "cell_type": "markdown",
   "metadata": {},
   "source": [
    "##Network between words"
   ]
  },
  {
   "cell_type": "code",
   "execution_count": 360,
   "metadata": {
    "collapsed": false
   },
   "outputs": [],
   "source": [
    "import networkx as nx\n",
    "import itertools as it\n",
    "import math\n",
    "from IPython.html import widgets\n",
    "from IPython.display import display\n",
    "from d3networkx import ForceDirectedGraph, EventfulGraph"
   ]
  },
  {
   "cell_type": "code",
   "execution_count": 382,
   "metadata": {
    "collapsed": false
   },
   "outputs": [],
   "source": [
    "#Create Graph\n",
    "G = nx.Graph()\n",
    "for i in [text for text in texts_all if len(text)<10]:\n",
    "    for j in i:\n",
    "        if j in G.node:\n",
    "            G.node[j][\"r\"]+=1\n",
    "        else:\n",
    "            G.add_node(j,label=j,r=1, font_size='10pt',charge=-200)\n",
    "    for j in list(it.combinations(i,2)):\n",
    "        if j in G.edges():\n",
    "            G[j[0]][j[1]][\"weight\"]+=1\n",
    "            G[j[0]][j[1]][\"strength\"]+=1\n",
    "            #G[j[0]][j[1]][\"strokewidth\"]=str(G[j[0]][j[1]][\"strength\"])+\"px\"\n",
    "        else:\n",
    "            G.add_edge(j[0],j[1],weight=1, stroke=\"#000000\", strokewidth=\"1px\", strength=0.3)"
   ]
  },
  {
   "cell_type": "code",
   "execution_count": null,
   "metadata": {
    "collapsed": true
   },
   "outputs": [],
   "source": [
    "#Export to a file in order to be analysed by a third party software as Gephi\n",
    "nx.write_graphml(G,\"network-titles-books-scientificcomputing.graphml\",\"utf-8\")"
   ]
  },
  {
   "cell_type": "code",
   "execution_count": 354,
   "metadata": {
    "collapsed": true
   },
   "outputs": [],
   "source": [
    "#visualisation direct widget (doesn't work for the moment)\n",
    "def create_widget(graph):\n",
    "    display(ForceDirectedGraph(graph))\n",
    "EventfulGraph.on_constructed(create_widget)"
   ]
  },
  {
   "cell_type": "code",
   "execution_count": 383,
   "metadata": {
    "collapsed": false
   },
   "outputs": [],
   "source": [
    "H = G.copy()\n",
    "H.remove_nodes_from([i for i in H.node if H.node[i][\"r\"]<10])\n",
    "for i in H.node:\n",
    "    H.node[i][\"r\"] = math.log10(H.node[i][\"r\"])\n",
    "D = EventfulGraph(H)\n",
    "d3 = ForceDirectedGraph(D)\n",
    "d3.width = 1000\n",
    "d3.height = 1000\n",
    "display(d3)"
   ]
  },
  {
   "cell_type": "code",
   "execution_count": 243,
   "metadata": {
    "collapsed": false
   },
   "outputs": [],
   "source": []
  }
 ],
 "metadata": {
  "kernelspec": {
   "display_name": "Python 3",
   "language": "python",
   "name": "python3"
  }
 },
 "nbformat": 4,
 "nbformat_minor": 0
}
