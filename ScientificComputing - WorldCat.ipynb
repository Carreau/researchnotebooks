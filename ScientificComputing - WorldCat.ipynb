{
 "cells": [
  {
   "cell_type": "markdown",
   "metadata": {},
   "source": [
    "#Analyse books title from WorlCat.org"
   ]
  },
  {
   "cell_type": "markdown",
   "metadata": {},
   "source": [
    "## Get books information (scrapper)"
   ]
  },
  {
   "cell_type": "code",
   "execution_count": 8,
   "metadata": {
    "collapsed": false
   },
   "outputs": [],
   "source": [
    "import requests\n",
    "import bs4\n",
    "import os\n",
    "import pylab as pl\n",
    "import pandas as pd\n",
    "from nltk.corpus import stopwords\n",
    "from nltk import word_tokenize\n",
    "from nltk.stem.porter import PorterStemmer\n",
    "import string\n",
    "import re\n",
    "import matplotlib as mp\n",
    "%matplotlib inline"
   ]
  },
  {
   "cell_type": "code",
   "execution_count": 5,
   "metadata": {
    "collapsed": false
   },
   "outputs": [],
   "source": [
    "#Download the files if not\n",
    "\n",
    "num = 6070 #numbers of titles \n",
    "urltemplate = \"https://www.worldcat.org/search?q=kw%3A%22scientific+computing%22&fq=x0%3Abook&dblist=638&\"+\\\n",
    "    \"start={pagenum}&qt=page_number_link\"\n",
    "\n",
    "if not os.path.exists(\"worldcat\"):\n",
    "    os.mkdir(\"worldcat\")\n",
    "\n",
    "for i in range(1,num,10):\n",
    "    if os.path.exists(\"worldcat/req\"+str(i)):\n",
    "        continue\n",
    "    url = urltemplate.format(pagenum=str(i))\n",
    "    req = requests.get(url)\n",
    "    with open(\"worldcat/req\"+str(i),\"wb\") as f:\n",
    "        f.write(req.content)"
   ]
  },
  {
   "cell_type": "code",
   "execution_count": 6,
   "metadata": {
    "collapsed": false
   },
   "outputs": [
    {
     "name": "stdout",
     "output_type": "stream",
     "text": [
      "There is 6070 book titles\n"
     ]
    }
   ],
   "source": [
    "#Parse information\n",
    "titles = []\n",
    "for i in os.listdir(\"worldcat\"):\n",
    "    if \"req\" in i:\n",
    "        with open(\"worldcat/\"+i,\"r\") as f:\n",
    "            content = \"\\n\".join(f.readlines())\n",
    "        page = bs4.BeautifulSoup(content,\"html.parser\")\n",
    "        for t in page.find(id=\"br-table-results\").findAll(\"td\", { \"class\" : \"result\" }):\n",
    "            try:\n",
    "                titles.append((t.find(\"strong\").contents[0],t.find(\"span\",{\"class\" : \"itemPublisher\"}).contents[0]))\n",
    "            except:\n",
    "                titles.append((t.find(\"strong\").contents[0],\"NA\"))\n",
    "print(\"There is {num} book titles\".format(num=len(titles)))"
   ]
  },
  {
   "cell_type": "code",
   "execution_count": 17,
   "metadata": {
    "collapsed": false
   },
   "outputs": [
    {
     "ename": "SyntaxError",
     "evalue": "unexpected character after line continuation character (<ipython-input-17-03aeddc5d2e9>, line 8)",
     "output_type": "error",
     "traceback": [
      "\u001b[1;36m  File \u001b[1;32m\"<ipython-input-17-03aeddc5d2e9>\"\u001b[1;36m, line \u001b[1;32m8\u001b[0m\n\u001b[1;33m    titles = [i for i in titles if not str(i[0]).lower() in remove and \"scientific computing\" in str(i[0]).lower()\\ #explicitly mentionned in the title\u001b[0m\n\u001b[1;37m                                                                                                                                                       ^\u001b[0m\n\u001b[1;31mSyntaxError\u001b[0m\u001b[1;31m:\u001b[0m unexpected character after line continuation character\n"
     ]
    }
   ],
   "source": [
    "#cleaning data (different rules)\n",
    "a = dict(pd.Series([str(i[0]).lower() for i in titles]).value_counts())\n",
    "\n",
    "#repetition from the same title too much\n",
    "remove = [i for i in a if a[i]>11]\n",
    "\n",
    "#remove proceedings and \n",
    "titles = [i for i in titles if not str(i[0]).lower() in remove and \"scientific computing\" in str(i[0]).lower()\\ #explicitly mentionned in the title\n",
    "         and not \"proceedings\" in str(i[0]).lower()\\\n",
    "         and not \"conference\" in str(i[0]).lower()\\\n",
    "         and not \"workshop\" in str(i[0]).lower()\\\n",
    "         and not \"symposium\" in str(i[0]).lower()]\n",
    "\n",
    "print(\"There is {num} book titles\".format(num=len(titles)))"
   ]
  },
  {
   "cell_type": "markdown",
   "metadata": {},
   "source": [
    "#Analyse titles"
   ]
  },
  {
   "cell_type": "markdown",
   "metadata": {},
   "source": [
    "## Evolution  number of books published"
   ]
  },
  {
   "cell_type": "code",
   "execution_count": 10,
   "metadata": {
    "collapsed": false
   },
   "outputs": [
    {
     "data": {
      "text/plain": [
       "<matplotlib.text.Text at 0xb703832c>"
      ]
     },
     "execution_count": 10,
     "metadata": {},
     "output_type": "execute_result"
    },
    {
     "data": {
      "image/png": "[encoded data removed]",
      "text/plain": [
       "<matplotlib.figure.Figure at 0x9e571f0c>"
      ]
     },
     "metadata": {},
     "output_type": "display_data"
    }
   ],
   "source": [
    "years = []\n",
    "texts2 = []\n",
    "for i in titles:\n",
    "    try:\n",
    "        t = re.findall(\"([0-9]{4})\",i[1])\n",
    "    except:\n",
    "        t=\"na\"\n",
    "    if len(t)>0 and t != \"na\":\n",
    "        years.append(int(t[0]))\n",
    "        texts2.append((i[0],t[0]))\n",
    "    else:\n",
    "        texts2.append((i[0],0))\n",
    "        \n",
    "a = pd.Series([i for i in years if i<2015 and i>1900])\n",
    "b = a.hist(bins=40)\n",
    "pl.title(\"Number of books dealing with scientific computing\")\n",
    "pl.xlabel(\"Year of publication\")\n"
   ]
  },
  {
   "cell_type": "markdown",
   "metadata": {},
   "source": [
    "## Comparison with google N-gram"
   ]
  },
  {
   "cell_type": "code",
   "execution_count": 91,
   "metadata": {
    "collapsed": false
   },
   "outputs": [
    {
     "data": {
      "text/plain": [
       "[<matplotlib.lines.Line2D at 0x8a86646c>]"
      ]
     },
     "execution_count": 91,
     "metadata": {},
     "output_type": "execute_result"
    },
    {
     "data": {
      "image/png": "[encoded data removed]",
      "text/plain": [
       "<matplotlib.figure.Figure at 0x8ac5dd8c>"
      ]
     },
     "metadata": {},
     "output_type": "display_data"
    }
   ],
   "source": [
    "# https://books.google.com/ngrams/graph?content=scientific+computing&year_start=1930&year_end=2008&corpus=15&smoothing=1&share=&direct_url=t1%3B%2Cscientific%20computing%3B%2Cc0\n",
    "a=  [0.0, 0.0, 3.4695161558554827e-10, 3.4695161558554827e-10, 3.4695161558554827e-10, 0.0, 5.156557773370688e-10, 1.0194078914338434e-09, 1.0194078914338434e-09, 5.0375211409677456e-10, 2.9298698652387617e-10, 5.9675518230643354e-10, 2.0241754383754085e-09, 2.1223283500996595e-09, 3.8772419719279583e-09, 5.6196949686319426e-09, 5.4579962031435043e-09, 4.2551992300114234e-09, 1.4728941029792015e-09, 3.3709237623469335e-09, 2.7133102246483056e-09, 2.3257420989075683e-09, 1.597333358175727e-09, 1.3990620513955794e-09, 1.7620095012678878e-09, 1.0626310202136817e-09, 6.7617900908108668e-09, 8.9724817205668241e-09, 1.0891105794996747e-08, 7.5004972603191309e-09, 1.087119239073786e-08, 1.3782588847988109e-08, 1.4488048686682001e-08, 1.3210601205552544e-08, 1.1440794089878636e-08, 1.1547589551241799e-08, 1.2100773124264682e-08, 1.1308539882293189e-08, 1.2627208612059349e-08, 1.2781045259184035e-08, 2.4005328687811318e-08, 2.4671765667487005e-08, 2.5018773423350165e-08, 1.3970456199293343e-08, 1.4673776268144442e-08, 1.546954978929686e-08, 1.6965617355424456e-08, 1.8141595189054744e-08, 1.7235879390398168e-08, 1.8793308835067062e-08, 1.8667733433138285e-08, 2.1453814132617783e-08, 2.219857483017525e-08, 2.322866343718033e-08, 2.4334533795430009e-08, 3.0973142865301874e-08, 4.3178831177215216e-08, 4.9049395064078759e-08, 5.2860117468374788e-08, 5.9221722636948471e-08, 6.2433854234692873e-08, 6.4799046128882765e-08, 5.6681023134312149e-08, 5.5802830208525243e-08, 4.9005915769839703e-08, 4.9211746973772584e-08, 4.9806985202849319e-08, 5.1457671901289359e-08, 5.456425948106395e-08, 5.1941514792967304e-08, 5.5361535800102502e-08, 5.5291312861527331e-08, 6.139100131955881e-08, 6.1094646971090086e-08, 6.0430933738568157e-08, 5.4970995459295104e-08, 5.1347556725052833e-08, 4.2185427891657433e-08, 3.8798637191916896e-08]\n",
    "pl.plot(range(1930, 2009),a)"
   ]
  },
  {
   "cell_type": "markdown",
   "metadata": {},
   "source": [
    "**Analysis**\n",
    "*The analysis of trend (either Google Ngram or WorldCat) shows a bimodal distribution of books on computational sciences : we can make the hypothesis that \"scientific computing\" went through two different era*"
   ]
  },
  {
   "cell_type": "markdown",
   "metadata": {},
   "source": [
    "## Words analysis of titles"
   ]
  },
  {
   "cell_type": "code",
   "execution_count": 13,
   "metadata": {
    "collapsed": false
   },
   "outputs": [],
   "source": [
    "texts_total = [i for i in texts2 if len(str(i[0]).split())<30] #lengths max of titles\n",
    "\n",
    "stoplist = stopwords.words('english') + list(string.punctuation) #stoplist\n",
    "\n",
    "texts_total = [([word.replace(\" \",\"\").replace(\".\",\"\").replace(\",\",\"\").replace(\"(\",\"\").replace(\")\",\"\")\\\n",
    "                 .replace('\"',\"\").replace(\"]\",\"\").replace(\"[\",\"\")\\\n",
    "          for word in str(document[0]).lower().split() if word not in stoplist],document[1])\n",
    "          for document in texts_total] #remove words from stoplist\n",
    "\n",
    "#remove one time words\n",
    "l = pd.Series([i for j in texts_total for i in j[0]])\n",
    "t = dict(l.value_counts())\n",
    "adhocfilter = [u for u in t if t[u]<2] + ['1','2',\"'88\"]\n",
    "w = [u for u in t if not u in adhocfilter]\n",
    "\n",
    "#porter_stemmer = PorterStemmer() #stemmer\n",
    "#texts_total = [([porter_stemmer.stem(token) for token in text[0] if token in w],text[1])\n",
    "#          for text in texts_total]\n",
    "\n",
    "texts_total = [([token for token in text[0] if token in w],text[1])\n",
    "          for text in texts_total]\n",
    "\n",
    "\n",
    "texts_all = [i[0] for i in texts_total]\n",
    "texts_t1 = [i[0] for i in texts_total if int(i[1])<2000]\n",
    "texts_t2 = [i[0] for i in texts_total if int(i[1])>=2000]"
   ]
  },
  {
   "cell_type": "markdown",
   "metadata": {},
   "source": [
    "Words used in the title regarding each period"
   ]
  },
  {
   "cell_type": "code",
   "execution_count": 14,
   "metadata": {
    "collapsed": false
   },
   "outputs": [
    {
     "data": {
      "text/html": [
       "<div>\n",
       "<table border=\"1\" class=\"dataframe\">\n",
       "  <thead>\n",
       "    <tr style=\"text-align: right;\">\n",
       "      <th></th>\n",
       "      <th>alltitles</th>\n",
       "      <th>alltitlesperc</th>\n",
       "      <th>before2000</th>\n",
       "      <th>before2000perc</th>\n",
       "      <th>after2000</th>\n",
       "      <th>after2000perc</th>\n",
       "    </tr>\n",
       "  </thead>\n",
       "  <tbody>\n",
       "    <tr>\n",
       "      <th>computing</th>\n",
       "      <td>1127</td>\n",
       "      <td>27.222222</td>\n",
       "      <td>601</td>\n",
       "      <td>26.557667</td>\n",
       "      <td>526</td>\n",
       "      <td>28.023442</td>\n",
       "    </tr>\n",
       "    <tr>\n",
       "      <th>scientific</th>\n",
       "      <td>1072</td>\n",
       "      <td>25.893720</td>\n",
       "      <td>595</td>\n",
       "      <td>26.292532</td>\n",
       "      <td>477</td>\n",
       "      <td>25.412893</td>\n",
       "    </tr>\n",
       "    <tr>\n",
       "      <th>parallel</th>\n",
       "      <td>463</td>\n",
       "      <td>11.183575</td>\n",
       "      <td>331</td>\n",
       "      <td>14.626602</td>\n",
       "      <td>132</td>\n",
       "      <td>7.032499</td>\n",
       "    </tr>\n",
       "    <tr>\n",
       "      <th>numerical</th>\n",
       "      <td>370</td>\n",
       "      <td>8.937198</td>\n",
       "      <td>207</td>\n",
       "      <td>9.147150</td>\n",
       "      <td>163</td>\n",
       "      <td>8.684070</td>\n",
       "    </tr>\n",
       "    <tr>\n",
       "      <th>methods</th>\n",
       "      <td>300</td>\n",
       "      <td>7.246377</td>\n",
       "      <td>154</td>\n",
       "      <td>6.805126</td>\n",
       "      <td>146</td>\n",
       "      <td>7.778370</td>\n",
       "    </tr>\n",
       "    <tr>\n",
       "      <th>analysis</th>\n",
       "      <td>275</td>\n",
       "      <td>6.642512</td>\n",
       "      <td>145</td>\n",
       "      <td>6.407424</td>\n",
       "      <td>130</td>\n",
       "      <td>6.925946</td>\n",
       "    </tr>\n",
       "    <tr>\n",
       "      <th>applications</th>\n",
       "      <td>205</td>\n",
       "      <td>4.951691</td>\n",
       "      <td>86</td>\n",
       "      <td>3.800265</td>\n",
       "      <td>119</td>\n",
       "      <td>6.339904</td>\n",
       "    </tr>\n",
       "    <tr>\n",
       "      <th>systems</th>\n",
       "      <td>183</td>\n",
       "      <td>4.420290</td>\n",
       "      <td>102</td>\n",
       "      <td>4.507291</td>\n",
       "      <td>81</td>\n",
       "      <td>4.315397</td>\n",
       "    </tr>\n",
       "    <tr>\n",
       "      <th>problems</th>\n",
       "      <td>169</td>\n",
       "      <td>4.082126</td>\n",
       "      <td>110</td>\n",
       "      <td>4.860804</td>\n",
       "      <td>59</td>\n",
       "      <td>3.143314</td>\n",
       "    </tr>\n",
       "    <tr>\n",
       "      <th>data</th>\n",
       "      <td>165</td>\n",
       "      <td>3.985507</td>\n",
       "      <td>70</td>\n",
       "      <td>3.093239</td>\n",
       "      <td>95</td>\n",
       "      <td>5.061268</td>\n",
       "    </tr>\n",
       "    <tr>\n",
       "      <th>performance</th>\n",
       "      <td>161</td>\n",
       "      <td>3.888889</td>\n",
       "      <td>84</td>\n",
       "      <td>3.711887</td>\n",
       "      <td>77</td>\n",
       "      <td>4.102291</td>\n",
       "    </tr>\n",
       "    <tr>\n",
       "      <th>using</th>\n",
       "      <td>159</td>\n",
       "      <td>3.840580</td>\n",
       "      <td>79</td>\n",
       "      <td>3.490941</td>\n",
       "      <td>80</td>\n",
       "      <td>4.262120</td>\n",
       "    </tr>\n",
       "    <tr>\n",
       "      <th>equations</th>\n",
       "      <td>159</td>\n",
       "      <td>3.840580</td>\n",
       "      <td>92</td>\n",
       "      <td>4.065400</td>\n",
       "      <td>67</td>\n",
       "      <td>3.569526</td>\n",
       "    </tr>\n",
       "    <tr>\n",
       "      <th>report</th>\n",
       "      <td>148</td>\n",
       "      <td>3.574879</td>\n",
       "      <td>62</td>\n",
       "      <td>2.739726</td>\n",
       "      <td>86</td>\n",
       "      <td>4.581779</td>\n",
       "    </tr>\n",
       "    <tr>\n",
       "      <th>simulation</th>\n",
       "      <td>143</td>\n",
       "      <td>3.454106</td>\n",
       "      <td>79</td>\n",
       "      <td>3.490941</td>\n",
       "      <td>64</td>\n",
       "      <td>3.409696</td>\n",
       "    </tr>\n",
       "    <tr>\n",
       "      <th>computational</th>\n",
       "      <td>131</td>\n",
       "      <td>3.164251</td>\n",
       "      <td>NaN</td>\n",
       "      <td>NaN</td>\n",
       "      <td>93</td>\n",
       "      <td>4.954715</td>\n",
       "    </tr>\n",
       "    <tr>\n",
       "      <th>system</th>\n",
       "      <td>130</td>\n",
       "      <td>3.140097</td>\n",
       "      <td>86</td>\n",
       "      <td>3.800265</td>\n",
       "      <td>44</td>\n",
       "      <td>2.344166</td>\n",
       "    </tr>\n",
       "    <tr>\n",
       "      <th>algorithms</th>\n",
       "      <td>129</td>\n",
       "      <td>3.115942</td>\n",
       "      <td>63</td>\n",
       "      <td>2.783915</td>\n",
       "      <td>66</td>\n",
       "      <td>3.516249</td>\n",
       "    </tr>\n",
       "    <tr>\n",
       "      <th>method</th>\n",
       "      <td>124</td>\n",
       "      <td>2.995169</td>\n",
       "      <td>70</td>\n",
       "      <td>3.093239</td>\n",
       "      <td>54</td>\n",
       "      <td>2.876931</td>\n",
       "    </tr>\n",
       "    <tr>\n",
       "      <th>software</th>\n",
       "      <td>124</td>\n",
       "      <td>2.995169</td>\n",
       "      <td>70</td>\n",
       "      <td>3.093239</td>\n",
       "      <td>54</td>\n",
       "      <td>2.876931</td>\n",
       "    </tr>\n",
       "    <tr>\n",
       "      <th>modeling</th>\n",
       "      <td>110</td>\n",
       "      <td>2.657005</td>\n",
       "      <td>49</td>\n",
       "      <td>2.165267</td>\n",
       "      <td>61</td>\n",
       "      <td>3.249867</td>\n",
       "    </tr>\n",
       "    <tr>\n",
       "      <th>science</th>\n",
       "      <td>98</td>\n",
       "      <td>2.367150</td>\n",
       "      <td>NaN</td>\n",
       "      <td>NaN</td>\n",
       "      <td>59</td>\n",
       "      <td>3.143314</td>\n",
       "    </tr>\n",
       "    <tr>\n",
       "      <th>optimization</th>\n",
       "      <td>98</td>\n",
       "      <td>2.367150</td>\n",
       "      <td>NaN</td>\n",
       "      <td>NaN</td>\n",
       "      <td>61</td>\n",
       "      <td>3.249867</td>\n",
       "    </tr>\n",
       "    <tr>\n",
       "      <th>introduction</th>\n",
       "      <td>94</td>\n",
       "      <td>2.270531</td>\n",
       "      <td>NaN</td>\n",
       "      <td>NaN</td>\n",
       "      <td>60</td>\n",
       "      <td>3.196590</td>\n",
       "    </tr>\n",
       "    <tr>\n",
       "      <th>high</th>\n",
       "      <td>94</td>\n",
       "      <td>2.270531</td>\n",
       "      <td>NaN</td>\n",
       "      <td>NaN</td>\n",
       "      <td>53</td>\n",
       "      <td>2.823655</td>\n",
       "    </tr>\n",
       "    <tr>\n",
       "      <th>computer</th>\n",
       "      <td>94</td>\n",
       "      <td>2.270531</td>\n",
       "      <td>67</td>\n",
       "      <td>2.960672</td>\n",
       "      <td>NaN</td>\n",
       "      <td>NaN</td>\n",
       "    </tr>\n",
       "    <tr>\n",
       "      <th>distributed</th>\n",
       "      <td>91</td>\n",
       "      <td>2.198068</td>\n",
       "      <td>65</td>\n",
       "      <td>2.872293</td>\n",
       "      <td>NaN</td>\n",
       "      <td>NaN</td>\n",
       "    </tr>\n",
       "    <tr>\n",
       "      <th>part</th>\n",
       "      <td>90</td>\n",
       "      <td>2.173913</td>\n",
       "      <td>NaN</td>\n",
       "      <td>NaN</td>\n",
       "      <td>47</td>\n",
       "      <td>2.503996</td>\n",
       "    </tr>\n",
       "    <tr>\n",
       "      <th>applied</th>\n",
       "      <td>89</td>\n",
       "      <td>2.149758</td>\n",
       "      <td>49</td>\n",
       "      <td>2.165267</td>\n",
       "      <td>40</td>\n",
       "      <td>2.131060</td>\n",
       "    </tr>\n",
       "    <tr>\n",
       "      <th>large</th>\n",
       "      <td>87</td>\n",
       "      <td>2.101449</td>\n",
       "      <td>NaN</td>\n",
       "      <td>NaN</td>\n",
       "      <td>46</td>\n",
       "      <td>2.450719</td>\n",
       "    </tr>\n",
       "    <tr>\n",
       "      <th>linear</th>\n",
       "      <td>87</td>\n",
       "      <td>2.101449</td>\n",
       "      <td>51</td>\n",
       "      <td>2.253646</td>\n",
       "      <td>36</td>\n",
       "      <td>1.917954</td>\n",
       "    </tr>\n",
       "    <tr>\n",
       "      <th>research</th>\n",
       "      <td>86</td>\n",
       "      <td>2.077295</td>\n",
       "      <td>48</td>\n",
       "      <td>2.121078</td>\n",
       "      <td>38</td>\n",
       "      <td>2.024507</td>\n",
       "    </tr>\n",
       "    <tr>\n",
       "      <th>engineering</th>\n",
       "      <td>84</td>\n",
       "      <td>2.028986</td>\n",
       "      <td>NaN</td>\n",
       "      <td>NaN</td>\n",
       "      <td>47</td>\n",
       "      <td>2.503996</td>\n",
       "    </tr>\n",
       "    <tr>\n",
       "      <th>solution</th>\n",
       "      <td>84</td>\n",
       "      <td>2.028986</td>\n",
       "      <td>51</td>\n",
       "      <td>2.253646</td>\n",
       "      <td>NaN</td>\n",
       "      <td>NaN</td>\n",
       "    </tr>\n",
       "    <tr>\n",
       "      <th>programming</th>\n",
       "      <td>83</td>\n",
       "      <td>2.004831</td>\n",
       "      <td>45</td>\n",
       "      <td>1.988511</td>\n",
       "      <td>38</td>\n",
       "      <td>2.024507</td>\n",
       "    </tr>\n",
       "    <tr>\n",
       "      <th>finite</th>\n",
       "      <td>82</td>\n",
       "      <td>1.980676</td>\n",
       "      <td>47</td>\n",
       "      <td>2.076889</td>\n",
       "      <td>35</td>\n",
       "      <td>1.864678</td>\n",
       "    </tr>\n",
       "    <tr>\n",
       "      <th>algorithm</th>\n",
       "      <td>78</td>\n",
       "      <td>1.884058</td>\n",
       "      <td>56</td>\n",
       "      <td>2.474591</td>\n",
       "      <td>NaN</td>\n",
       "      <td>NaN</td>\n",
       "    </tr>\n",
       "    <tr>\n",
       "      <th>visualization</th>\n",
       "      <td>75</td>\n",
       "      <td>1.811594</td>\n",
       "      <td>47</td>\n",
       "      <td>2.076889</td>\n",
       "      <td>NaN</td>\n",
       "      <td>NaN</td>\n",
       "    </tr>\n",
       "    <tr>\n",
       "      <th>computers</th>\n",
       "      <td>75</td>\n",
       "      <td>1.811594</td>\n",
       "      <td>60</td>\n",
       "      <td>2.651348</td>\n",
       "      <td>NaN</td>\n",
       "      <td>NaN</td>\n",
       "    </tr>\n",
       "    <tr>\n",
       "      <th>recipes</th>\n",
       "      <td>74</td>\n",
       "      <td>1.787440</td>\n",
       "      <td>65</td>\n",
       "      <td>2.872293</td>\n",
       "      <td>NaN</td>\n",
       "      <td>NaN</td>\n",
       "    </tr>\n",
       "  </tbody>\n",
       "</table>\n",
       "</div>"
      ],
      "text/plain": [
       "               alltitles  alltitlesperc  before2000  before2000perc  \\\n",
       "computing           1127      27.222222         601       26.557667   \n",
       "scientific          1072      25.893720         595       26.292532   \n",
       "parallel             463      11.183575         331       14.626602   \n",
       "numerical            370       8.937198         207        9.147150   \n",
       "methods              300       7.246377         154        6.805126   \n",
       "analysis             275       6.642512         145        6.407424   \n",
       "applications         205       4.951691          86        3.800265   \n",
       "systems              183       4.420290         102        4.507291   \n",
       "problems             169       4.082126         110        4.860804   \n",
       "data                 165       3.985507          70        3.093239   \n",
       "performance          161       3.888889          84        3.711887   \n",
       "using                159       3.840580          79        3.490941   \n",
       "equations            159       3.840580          92        4.065400   \n",
       "report               148       3.574879          62        2.739726   \n",
       "simulation           143       3.454106          79        3.490941   \n",
       "computational        131       3.164251         NaN             NaN   \n",
       "system               130       3.140097          86        3.800265   \n",
       "algorithms           129       3.115942          63        2.783915   \n",
       "method               124       2.995169          70        3.093239   \n",
       "software             124       2.995169          70        3.093239   \n",
       "modeling             110       2.657005          49        2.165267   \n",
       "science               98       2.367150         NaN             NaN   \n",
       "optimization          98       2.367150         NaN             NaN   \n",
       "introduction          94       2.270531         NaN             NaN   \n",
       "high                  94       2.270531         NaN             NaN   \n",
       "computer              94       2.270531          67        2.960672   \n",
       "distributed           91       2.198068          65        2.872293   \n",
       "part                  90       2.173913         NaN             NaN   \n",
       "applied               89       2.149758          49        2.165267   \n",
       "large                 87       2.101449         NaN             NaN   \n",
       "linear                87       2.101449          51        2.253646   \n",
       "research              86       2.077295          48        2.121078   \n",
       "engineering           84       2.028986         NaN             NaN   \n",
       "solution              84       2.028986          51        2.253646   \n",
       "programming           83       2.004831          45        1.988511   \n",
       "finite                82       1.980676          47        2.076889   \n",
       "algorithm             78       1.884058          56        2.474591   \n",
       "visualization         75       1.811594          47        2.076889   \n",
       "computers             75       1.811594          60        2.651348   \n",
       "recipes               74       1.787440          65        2.872293   \n",
       "\n",
       "               after2000  after2000perc  \n",
       "computing            526      28.023442  \n",
       "scientific           477      25.412893  \n",
       "parallel             132       7.032499  \n",
       "numerical            163       8.684070  \n",
       "methods              146       7.778370  \n",
       "analysis             130       6.925946  \n",
       "applications         119       6.339904  \n",
       "systems               81       4.315397  \n",
       "problems              59       3.143314  \n",
       "data                  95       5.061268  \n",
       "performance           77       4.102291  \n",
       "using                 80       4.262120  \n",
       "equations             67       3.569526  \n",
       "report                86       4.581779  \n",
       "simulation            64       3.409696  \n",
       "computational         93       4.954715  \n",
       "system                44       2.344166  \n",
       "algorithms            66       3.516249  \n",
       "method                54       2.876931  \n",
       "software              54       2.876931  \n",
       "modeling              61       3.249867  \n",
       "science               59       3.143314  \n",
       "optimization          61       3.249867  \n",
       "introduction          60       3.196590  \n",
       "high                  53       2.823655  \n",
       "computer             NaN            NaN  \n",
       "distributed          NaN            NaN  \n",
       "part                  47       2.503996  \n",
       "applied               40       2.131060  \n",
       "large                 46       2.450719  \n",
       "linear                36       1.917954  \n",
       "research              38       2.024507  \n",
       "engineering           47       2.503996  \n",
       "solution             NaN            NaN  \n",
       "programming           38       2.024507  \n",
       "finite                35       1.864678  \n",
       "algorithm            NaN            NaN  \n",
       "visualization        NaN            NaN  \n",
       "computers            NaN            NaN  \n",
       "recipes              NaN            NaN  "
      ]
     },
     "execution_count": 14,
     "metadata": {},
     "output_type": "execute_result"
    }
   ],
   "source": [
    "data_words = pd.DataFrame()\n",
    "data_words[\"alltitles\"] = pd.Series([j for i in texts_all for j in i]).value_counts()[0:40]\n",
    "data_words[\"alltitlesperc\"] = pd.Series([j for i in texts_all for j in i]).value_counts()[0:40]*100/len(texts_all)\n",
    "data_words[\"before2000\"] = pd.Series([j for i in texts_t1 for j in i]).value_counts()[0:40]\n",
    "data_words[\"before2000perc\"] = pd.Series([j for i in texts_t1 for j in i]).value_counts()[0:40]*100/len(texts_t1)\n",
    "data_words[\"after2000\"] = pd.Series([j for i in texts_t2 for j in i]).value_counts()[0:40]\n",
    "data_words[\"after2000perc\"] = pd.Series([j for i in texts_t2 for j in i]).value_counts()[0:40]*100/len(texts_t2)\n",
    "data_words"
   ]
  },
  {
   "cell_type": "markdown",
   "metadata": {},
   "source": [
    "##Network between words"
   ]
  },
  {
   "cell_type": "code",
   "execution_count": 360,
   "metadata": {
    "collapsed": false
   },
   "outputs": [],
   "source": [
    "import networkx as nx\n",
    "import itertools as it\n",
    "import math\n",
    "from IPython.html import widgets\n",
    "from IPython.display import display\n",
    "from d3networkx import ForceDirectedGraph, EventfulGraph"
   ]
  },
  {
   "cell_type": "code",
   "execution_count": 382,
   "metadata": {
    "collapsed": false
   },
   "outputs": [],
   "source": [
    "#Create Graph\n",
    "G = nx.Graph()\n",
    "for i in [text for text in texts_all if len(text)<10]:\n",
    "    for j in i:\n",
    "        if j in G.node:\n",
    "            G.node[j][\"r\"]+=1\n",
    "        else:\n",
    "            G.add_node(j,label=j,r=1, font_size='10pt',charge=-200)\n",
    "    for j in list(it.combinations(i,2)):\n",
    "        if j in G.edges():\n",
    "            G[j[0]][j[1]][\"weight\"]+=1\n",
    "            G[j[0]][j[1]][\"strength\"]+=1\n",
    "            #G[j[0]][j[1]][\"strokewidth\"]=str(G[j[0]][j[1]][\"strength\"])+\"px\"\n",
    "        else:\n",
    "            G.add_edge(j[0],j[1],weight=1, stroke=\"#000000\", strokewidth=\"1px\", strength=0.3)"
   ]
  },
  {
   "cell_type": "code",
   "execution_count": null,
   "metadata": {
    "collapsed": true
   },
   "outputs": [],
   "source": [
    "#Export to a file in order to be analysed by a third party software as Gephi\n",
    "nx.write_graphml(G,\"network-titles-books-scientificcomputing.graphml\",\"utf-8\")"
   ]
  },
  {
   "cell_type": "code",
   "execution_count": 354,
   "metadata": {
    "collapsed": true
   },
   "outputs": [],
   "source": [
    "#visualisation direct widget (doesn't work for the moment)\n",
    "def create_widget(graph):\n",
    "    display(ForceDirectedGraph(graph))\n",
    "EventfulGraph.on_constructed(create_widget)"
   ]
  },
  {
   "cell_type": "code",
   "execution_count": 383,
   "metadata": {
    "collapsed": false
   },
   "outputs": [],
   "source": [
    "H = G.copy()\n",
    "H.remove_nodes_from([i for i in H.node if H.node[i][\"r\"]<10])\n",
    "for i in H.node:\n",
    "    H.node[i][\"r\"] = math.log10(H.node[i][\"r\"])\n",
    "D = EventfulGraph(H)\n",
    "d3 = ForceDirectedGraph(D)\n",
    "d3.width = 1000\n",
    "d3.height = 1000\n",
    "display(d3)"
   ]
  },
  {
   "cell_type": "code",
   "execution_count": 243,
   "metadata": {
    "collapsed": false
   },
   "outputs": [],
   "source": []
  }
 ],
 "metadata": {
  "kernelspec": {
   "display_name": "Python 3",
   "language": "python",
   "name": "python3"
  },
  "language_info": {
   "codemirror_mode": {
    "name": "ipython",
    "version": 3
   },
   "file_extension": ".py",
   "mimetype": "text/x-python",
   "name": "python",
   "nbconvert_exporter": "python",
   "pygments_lexer": "ipython3",
   "version": "3.4.3"
  }
 },
 "nbformat": 4,
 "nbformat_minor": 0
}
