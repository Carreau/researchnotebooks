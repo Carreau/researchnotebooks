{
 "cells": [
  {
   "cell_type": "markdown",
   "metadata": {},
   "source": [
    "# Empirical investigation of zombies"
   ]
  },
  {
   "cell_type": "code",
   "execution_count": 60,
   "metadata": {
    "collapsed": false
   },
   "outputs": [],
   "source": [
    "import requests\n",
    "import bs4\n",
    "import pandas\n",
    "import os\n",
    "import re\n",
    "import networkx as nx\n",
    "%matplotlib inline\n",
    "import matplotlib.pyplot as plt\n",
    "import itertools\n",
    "import nltk\n",
    "from nltk.corpus import stopwords\n",
    "from nltk.stem.porter import PorterStemmer\n",
    "import string\n",
    "plt.style.use('ggplot')"
   ]
  },
  {
   "cell_type": "markdown",
   "metadata": {},
   "source": [
    "## Scrap data from ZMDB \n",
    "[ZMDB](http://www.zmdb.org/)"
   ]
  },
  {
   "cell_type": "code",
   "execution_count": 2,
   "metadata": {
    "collapsed": false
   },
   "outputs": [],
   "source": [
    "#get movies link\n",
    "n = 243\n",
    "links = []\n",
    "if os.path.isfile(\"zombies-links.csv\"):\n",
    "    with open(\"zombies-links.csv\",\"r\") as f:\n",
    "        links = f.readlines()\n",
    "    links = [i.replace(\"\\n\",\"\") for i in links]\n",
    "else:  \n",
    "    for i in range(0,n):\n",
    "        url = \"http://www.zmdb.org/list/?start=\"+str(i*30)\n",
    "        data = bs4.BeautifulSoup(requests.get(url).content)\n",
    "        for i in data.findAll(\"div\",{\"class\":\"cataloqueObjectText\"}):\n",
    "            links.append(i.a[\"href\"])\n",
    "    with open(\"zombies-links.csv\",\"w\") as f:\n",
    "        for i in links:\n",
    "            f.write(i+\"\\n\")"
   ]
  },
  {
   "cell_type": "code",
   "execution_count": 3,
   "metadata": {
    "collapsed": true
   },
   "outputs": [],
   "source": [
    "#extract data from html page\n",
    "def get_content(data):\n",
    "    infos = {}\n",
    "    try:\n",
    "        infos[\"title\"] = data.find(\"h1\",{\"itemprop\":\"name\"}).contents[0].replace(\"(\",\"\").strip().lower()\n",
    "    except:\n",
    "        infos[\"title\"] = \"na\"\n",
    "    try:\n",
    "        infos[\"year\"] = re.findall('year=(.*?)\\\"',str(data))[0]\n",
    "    except:\n",
    "        infos[\"year\"] = \"na\"\n",
    "    try:\n",
    "        infos[\"description\"] = data.find(\"span\",{\"itemprop\":\"description\"}).contents[0].lower()\n",
    "    except:\n",
    "        infos[\"description\"] = \"na\"\n",
    "    try:\n",
    "        infos[\"zvalue\"] = data.find(\"div\",{\"class\":\"zombometer\"}).contents[1].split(\"/\")[0].strip()\n",
    "    except:\n",
    "        infos[\"zvalue\"] = \"na\"\n",
    "    try:\n",
    "        infos[\"keywords\"] = [i.lower() for i in re.findall('kw=(.*?)\\\"',str(data))]\n",
    "    except:\n",
    "        infos[\"keywords\"] = \"na\"\n",
    "    try:\n",
    "        infos[\"actors\"] = [i.contents[1].replace(\" ... \",\"\").lower() for i in data.findAll(\"div\",{\"itemprop\":\"actor\"})]\n",
    "    except:\n",
    "        infos[\"actors\"] = \"na\"\n",
    "    return infos"
   ]
  },
  {
   "cell_type": "code",
   "execution_count": 16,
   "metadata": {
    "collapsed": false
   },
   "outputs": [],
   "source": [
    "#Get data\n",
    "corpus = []\n",
    "if not os.path.exists(\"zombis-movies\"):\n",
    "    os.mkdir(\"zombis-movies\")\n",
    "for u in links:\n",
    "    i = u.replace(\"/\",\"-\")\n",
    "    if not os.path.isfile(\"zombis-movies/\"+i):\n",
    "        data = requests.get(u).content\n",
    "        with open(\"zombis-movies/\"+i,\"w\") as f:\n",
    "            f.write(str(data))\n",
    "    else:\n",
    "        with open(\"zombis-movies/\"+i,\"r\") as f:\n",
    "            data = \" \".join(f.readlines())        \n",
    "    try:\n",
    "        if \"category: movie\" in data:\n",
    "            data = bs4.BeautifulSoup(data)\n",
    "            data = get_content(data)\n",
    "            corpus.append(data)\n",
    "            #print(data[\"title\"],data[\"year\"],i)\n",
    "    except:\n",
    "        print(i)"
   ]
  },
  {
   "cell_type": "code",
   "execution_count": 55,
   "metadata": {
    "collapsed": true
   },
   "outputs": [],
   "source": [
    "#ad hoc cleaning data\n",
    "def clean(d,year=False):   \n",
    "    if year:\n",
    "        try:\n",
    "            a = int(d)\n",
    "            if a<1900 or a >2016:\n",
    "                a = 0\n",
    "            return a\n",
    "        except:\n",
    "            return 0\n",
    "    \n",
    "    if type(d)==list:\n",
    "        return [clean(u) for u in d]\n",
    "    else:\n",
    "        return d.replace(\"\\n\",\" \").replace(\"%20\",\" \").replace(\"\\\\n\",\"\")"
   ]
  },
  {
   "cell_type": "markdown",
   "metadata": {},
   "source": [
    "## Creating DataFrame of movies"
   ]
  },
  {
   "cell_type": "code",
   "execution_count": 56,
   "metadata": {
    "collapsed": false
   },
   "outputs": [],
   "source": [
    "zombis = pandas.DataFrame({\"title\":[clean(i[\"title\"]) for i in corpus],\"year\":[clean(i[\"year\"],True) for i in corpus],\\\n",
    "                  \"description\":[clean(i[\"description\"]) for i in corpus],\"zvalue\":[i[\"zvalue\"] for i in corpus],\\\n",
    "                 \"keywords\":[clean(i[\"keywords\"]) for i in corpus]})"
   ]
  },
  {
   "cell_type": "code",
   "execution_count": 62,
   "metadata": {
    "collapsed": false,
    "scrolled": true
   },
   "outputs": [
    {
     "data": {
      "text/html": [
       "<div>\n",
       "<table border=\"1\" class=\"dataframe\">\n",
       "  <thead>\n",
       "    <tr style=\"text-align: right;\">\n",
       "      <th></th>\n",
       "      <th>description</th>\n",
       "      <th>keywords</th>\n",
       "      <th>title</th>\n",
       "      <th>year</th>\n",
       "      <th>zvalue</th>\n",
       "    </tr>\n",
       "  </thead>\n",
       "  <tbody>\n",
       "    <tr>\n",
       "      <th>0</th>\n",
       "      <td>welcome to hell on earth, aka the soviet union...</td>\n",
       "      <td>[horror, ghosts, feature film, magic, anime, w...</td>\n",
       "      <td>first squad: the moment of truth</td>\n",
       "      <td>2009</td>\n",
       "      <td>5</td>\n",
       "    </tr>\n",
       "    <tr>\n",
       "      <th>1</th>\n",
       "      <td>the demon has been banished to earth. in order...</td>\n",
       "      <td>[gore, horror, comedy, feature film, anthology]</td>\n",
       "      <td>tales of the supernatural</td>\n",
       "      <td>2014</td>\n",
       "      <td>2</td>\n",
       "    </tr>\n",
       "    <tr>\n",
       "      <th>2</th>\n",
       "      <td>things seem to be going well in japan until th...</td>\n",
       "      <td>[horror, comedy, feature film, revenge, anime]</td>\n",
       "      <td>gyo: tokyo fish attack</td>\n",
       "      <td>2012</td>\n",
       "      <td>4</td>\n",
       "    </tr>\n",
       "    <tr>\n",
       "      <th>3</th>\n",
       "      <td>a group of people are opening a new haunted ho...</td>\n",
       "      <td>[gore, splatter, horror, ghosts, demons, featu...</td>\n",
       "      <td>house of horrors: gates of hell</td>\n",
       "      <td>2015</td>\n",
       "      <td>4</td>\n",
       "    </tr>\n",
       "    <tr>\n",
       "      <th>4</th>\n",
       "      <td>a young woman finds a computer, and several ta...</td>\n",
       "      <td>[horror, curse, feature film, anthology]</td>\n",
       "      <td>apparition of evil</td>\n",
       "      <td>2014</td>\n",
       "      <td>2</td>\n",
       "    </tr>\n",
       "    <tr>\n",
       "      <th>5</th>\n",
       "      <td>max is invovled with a beautiful young woman b...</td>\n",
       "      <td>[gore, horror, comedy, feature film, relations...</td>\n",
       "      <td>burying the ex</td>\n",
       "      <td>2015</td>\n",
       "      <td>5</td>\n",
       "    </tr>\n",
       "    <tr>\n",
       "      <th>6</th>\n",
       "      <td>a university professor and his assistants work...</td>\n",
       "      <td>[horror, resurrection, feature film, science, ...</td>\n",
       "      <td>lazarus effect</td>\n",
       "      <td>2015</td>\n",
       "      <td>4</td>\n",
       "    </tr>\n",
       "    <tr>\n",
       "      <th>7</th>\n",
       "      <td>scott, a businessman, goes for a jog when some...</td>\n",
       "      <td>[gore, cannibalism, mummy, horror, comedy, fea...</td>\n",
       "      <td>razor\\'s ring</td>\n",
       "      <td>2007</td>\n",
       "      <td>1</td>\n",
       "    </tr>\n",
       "    <tr>\n",
       "      <th>8</th>\n",
       "      <td>those evil nazis come up with a new, desperate...</td>\n",
       "      <td>[horror, feature film, video game, nazi zombies]</td>\n",
       "      <td>reich of the dead</td>\n",
       "      <td>2015</td>\n",
       "      <td>5</td>\n",
       "    </tr>\n",
       "    <tr>\n",
       "      <th>9</th>\n",
       "      <td>the zombie apocalypse took place.  a group of ...</td>\n",
       "      <td>[horror, feature film, apocalypse, survival]</td>\n",
       "      <td>dead end</td>\n",
       "      <td>2011</td>\n",
       "      <td>5</td>\n",
       "    </tr>\n",
       "    <tr>\n",
       "      <th>10</th>\n",
       "      <td>kevin, a young man from asian, is an investmen...</td>\n",
       "      <td>[horror, curse, comedy, demons, feature film, ...</td>\n",
       "      <td>amigo undead</td>\n",
       "      <td>2015</td>\n",
       "      <td>4</td>\n",
       "    </tr>\n",
       "    <tr>\n",
       "      <th>11</th>\n",
       "      <td>the zombie apocalypse has taken place, and the...</td>\n",
       "      <td>[horror, insanity, feature film, survival, pos...</td>\n",
       "      <td>plague</td>\n",
       "      <td>2015</td>\n",
       "      <td>5</td>\n",
       "    </tr>\n",
       "    <tr>\n",
       "      <th>12</th>\n",
       "      <td>megamuerte, a heavy metal hair band, plays a l...</td>\n",
       "      <td>[horror, comedy, feature film, rock\\'n\\'roll, ...</td>\n",
       "      <td>megamuerte</td>\n",
       "      <td>2014</td>\n",
       "      <td>4</td>\n",
       "    </tr>\n",
       "    <tr>\n",
       "      <th>13</th>\n",
       "      <td>new york city has essentially been annihilated...</td>\n",
       "      <td>[horror, comedy, feature film, cockroaches]</td>\n",
       "      <td>they will outlive us all</td>\n",
       "      <td>2015</td>\n",
       "      <td>5</td>\n",
       "    </tr>\n",
       "    <tr>\n",
       "      <th>14</th>\n",
       "      <td>the world has gone to hell as most of the wate...</td>\n",
       "      <td>[horror, feature film, science fiction, post-a...</td>\n",
       "      <td>road wars</td>\n",
       "      <td>2015</td>\n",
       "      <td>4</td>\n",
       "    </tr>\n",
       "    <tr>\n",
       "      <th>15</th>\n",
       "      <td>it\\'s been approximately 100 years since the b...</td>\n",
       "      <td>[horror, curse, feature film, revenge, world w...</td>\n",
       "      <td>world war dead: rise of the fallen</td>\n",
       "      <td>2015</td>\n",
       "      <td>5</td>\n",
       "    </tr>\n",
       "    <tr>\n",
       "      <th>16</th>\n",
       "      <td>two young women, sam and veronica, arrive in a...</td>\n",
       "      <td>[horror, feature film, disease]</td>\n",
       "      <td>population zero</td>\n",
       "      <td>2014</td>\n",
       "      <td>5</td>\n",
       "    </tr>\n",
       "    <tr>\n",
       "      <th>17</th>\n",
       "      <td>maggie vogel made a mistake--she fled to a cit...</td>\n",
       "      <td>[horror, feature film, guilt, transformation, ...</td>\n",
       "      <td>maggie</td>\n",
       "      <td>2015</td>\n",
       "      <td>5</td>\n",
       "    </tr>\n",
       "    <tr>\n",
       "      <th>18</th>\n",
       "      <td>a group of shipwreck survivors end up on a isl...</td>\n",
       "      <td>[horror, mad scientist, feature film, mutant, ...</td>\n",
       "      <td>screamers</td>\n",
       "      <td>1979</td>\n",
       "      <td>1</td>\n",
       "    </tr>\n",
       "    <tr>\n",
       "      <th>19</th>\n",
       "      <td>a male child is born who happens to be the son...</td>\n",
       "      <td>[horror, possession, demons, feature film, child]</td>\n",
       "      <td>anak ng demonyo</td>\n",
       "      <td>1989</td>\n",
       "      <td>1</td>\n",
       "    </tr>\n",
       "  </tbody>\n",
       "</table>\n",
       "</div>"
      ],
      "text/plain": [
       "                                          description  \\\n",
       "0   welcome to hell on earth, aka the soviet union...   \n",
       "1   the demon has been banished to earth. in order...   \n",
       "2   things seem to be going well in japan until th...   \n",
       "3   a group of people are opening a new haunted ho...   \n",
       "4   a young woman finds a computer, and several ta...   \n",
       "5   max is invovled with a beautiful young woman b...   \n",
       "6   a university professor and his assistants work...   \n",
       "7   scott, a businessman, goes for a jog when some...   \n",
       "8   those evil nazis come up with a new, desperate...   \n",
       "9   the zombie apocalypse took place.  a group of ...   \n",
       "10  kevin, a young man from asian, is an investmen...   \n",
       "11  the zombie apocalypse has taken place, and the...   \n",
       "12  megamuerte, a heavy metal hair band, plays a l...   \n",
       "13  new york city has essentially been annihilated...   \n",
       "14  the world has gone to hell as most of the wate...   \n",
       "15  it\\'s been approximately 100 years since the b...   \n",
       "16  two young women, sam and veronica, arrive in a...   \n",
       "17  maggie vogel made a mistake--she fled to a cit...   \n",
       "18  a group of shipwreck survivors end up on a isl...   \n",
       "19  a male child is born who happens to be the son...   \n",
       "\n",
       "                                             keywords  \\\n",
       "0   [horror, ghosts, feature film, magic, anime, w...   \n",
       "1     [gore, horror, comedy, feature film, anthology]   \n",
       "2      [horror, comedy, feature film, revenge, anime]   \n",
       "3   [gore, splatter, horror, ghosts, demons, featu...   \n",
       "4            [horror, curse, feature film, anthology]   \n",
       "5   [gore, horror, comedy, feature film, relations...   \n",
       "6   [horror, resurrection, feature film, science, ...   \n",
       "7   [gore, cannibalism, mummy, horror, comedy, fea...   \n",
       "8    [horror, feature film, video game, nazi zombies]   \n",
       "9        [horror, feature film, apocalypse, survival]   \n",
       "10  [horror, curse, comedy, demons, feature film, ...   \n",
       "11  [horror, insanity, feature film, survival, pos...   \n",
       "12  [horror, comedy, feature film, rock\\'n\\'roll, ...   \n",
       "13        [horror, comedy, feature film, cockroaches]   \n",
       "14  [horror, feature film, science fiction, post-a...   \n",
       "15  [horror, curse, feature film, revenge, world w...   \n",
       "16                    [horror, feature film, disease]   \n",
       "17  [horror, feature film, guilt, transformation, ...   \n",
       "18  [horror, mad scientist, feature film, mutant, ...   \n",
       "19  [horror, possession, demons, feature film, child]   \n",
       "\n",
       "                                 title  year zvalue  \n",
       "0     first squad: the moment of truth  2009      5  \n",
       "1            tales of the supernatural  2014      2  \n",
       "2               gyo: tokyo fish attack  2012      4  \n",
       "3      house of horrors: gates of hell  2015      4  \n",
       "4                   apparition of evil  2014      2  \n",
       "5                       burying the ex  2015      5  \n",
       "6                       lazarus effect  2015      4  \n",
       "7                        razor\\'s ring  2007      1  \n",
       "8                    reich of the dead  2015      5  \n",
       "9                             dead end  2011      5  \n",
       "10                        amigo undead  2015      4  \n",
       "11                              plague  2015      5  \n",
       "12                          megamuerte  2014      4  \n",
       "13            they will outlive us all  2015      5  \n",
       "14                           road wars  2015      4  \n",
       "15  world war dead: rise of the fallen  2015      5  \n",
       "16                     population zero  2014      5  \n",
       "17                              maggie  2015      5  \n",
       "18                           screamers  1979      1  \n",
       "19                     anak ng demonyo  1989      1  "
      ]
     },
     "execution_count": 62,
     "metadata": {},
     "output_type": "execute_result"
    }
   ],
   "source": [
    "zombis[0:20]"
   ]
  },
  {
   "cell_type": "markdown",
   "metadata": {},
   "source": [
    "## Temporal evolution"
   ]
  },
  {
   "cell_type": "code",
   "execution_count": 25,
   "metadata": {
    "collapsed": false
   },
   "outputs": [
    {
     "data": {
      "text/plain": [
       "<matplotlib.text.Text at 0x10b2a3b38>"
      ]
     },
     "execution_count": 25,
     "metadata": {},
     "output_type": "execute_result"
    },
    {
     "data": {
      "image/png": "[encoded data removed]",
      "text/plain": [
       "<matplotlib.figure.Figure at 0x10ac8e588>"
      ]
     },
     "metadata": {},
     "output_type": "display_data"
    }
   ],
   "source": [
    "zombis[zombis[\"year\"]>0][\"year\"].hist(bins=115)\n",
    "plt.title(\"Zombie movies by year (ZMDB movies)\")\n",
    "plt.xlabel(\"Year\")\n",
    "plt.ylabel(\"Number of movies\")"
   ]
  },
  {
   "cell_type": "markdown",
   "metadata": {},
   "source": [
    "## Words from Titles"
   ]
  },
  {
   "cell_type": "code",
   "execution_count": 39,
   "metadata": {
    "collapsed": false
   },
   "outputs": [
    {
     "data": {
      "text/plain": [
       "dead       225\n",
       "zombi      212\n",
       "night       69\n",
       "live        65\n",
       "vampir      53\n",
       "vs.         49\n",
       "blood       47\n",
       "ghost       46\n",
       "dark        44\n",
       "death       40\n",
       "evil        40\n",
       "mummi       36\n",
       "hous        31\n",
       "hell        31\n",
       "curs        30\n",
       "demon       30\n",
       "terror      28\n",
       "horror      26\n",
       "return      25\n",
       "monster     25\n",
       "dtype: int64"
      ]
     },
     "execution_count": 39,
     "metadata": {},
     "output_type": "execute_result"
    }
   ],
   "source": [
    "stop = stopwords.words('english')\n",
    "porter_stemmer = PorterStemmer() #stemmer\n",
    "words = []\n",
    "for i in zombis.title:\n",
    "    if i == \"na\":\n",
    "        continue\n",
    "    w = i.split(\" \")\n",
    "    w = [porter_stemmer.stem(i) for i in w if len(i)>2 and not i in stop]\n",
    "    words += w\n",
    "a = pandas.Series(words)\n",
    "a.value_counts()[0:20]"
   ]
  },
  {
   "cell_type": "markdown",
   "metadata": {},
   "source": [
    "## Words from description"
   ]
  },
  {
   "cell_type": "code",
   "execution_count": 61,
   "metadata": {
    "collapsed": false
   },
   "outputs": [
    {
     "data": {
      "text/plain": [
       "zombi     3501\n",
       "one       1215\n",
       "get       1162\n",
       "young     1052\n",
       "woman     1038\n",
       "peopl     1016\n",
       "man        917\n",
       "kill       885\n",
       "group      811\n",
       "dead       779\n",
       "find       733\n",
       "also       671\n",
       "tri        661\n",
       "end        655\n",
       "turn       639\n",
       "back       637\n",
       "come       627\n",
       "evil       533\n",
       "must       527\n",
       "surviv     472\n",
       "dtype: int64"
      ]
     },
     "execution_count": 61,
     "metadata": {},
     "output_type": "execute_result"
    }
   ],
   "source": [
    "stop = stopwords.words('english')\n",
    "exclude = set(string.punctuation)\n",
    "porter_stemmer = PorterStemmer() #stemmer\n",
    "words = []\n",
    "for i in zombis.description:\n",
    "    if i == \"na\":\n",
    "        continue\n",
    "    w = ''.join(ch for ch in i if ch not in exclude).split(\" \")\n",
    "    w = [porter_stemmer.stem(i) for i in w if len(i)>2 and not i in stop]\n",
    "    words += w\n",
    "a = pandas.Series(words)\n",
    "a.value_counts()[0:20]"
   ]
  },
  {
   "cell_type": "markdown",
   "metadata": {},
   "source": [
    "## Networks if titles words"
   ]
  },
  {
   "cell_type": "code",
   "execution_count": null,
   "metadata": {
    "collapsed": false
   },
   "outputs": [],
   "source": [
    "G = nx.Graph()\n",
    "cnt = 0\n",
    "stop = stopwords.words('english')\n",
    "\n",
    "for i in zombis.title:\n",
    "    cnt +=1\n",
    "    if cnt%300 == 0:\n",
    "        print(cnt)\n",
    "    if i == \"na\":\n",
    "        continue\n",
    "    w = i.split(\" \")\n",
    "    w = [i for i in w if len(i)>2 and not i in stop]\n",
    "    for j in w:\n",
    "        if j in G.node:\n",
    "            G.node[j][\"weight\"]+=1\n",
    "        else:\n",
    "            G.add_node(j,Label=j,weight=1)\n",
    "    for j in itertools.combinations(w,2):\n",
    "        if j in G.edges():\n",
    "            G.edge[j[0]][j[1]][\"weight\"]+=1\n",
    "        else:\n",
    "            G.add_edge(j[0],j[1],weight=1)\n",
    "nx.write_graphml(G,\"zombies-titles.graphml\")"
   ]
  },
  {
   "cell_type": "code",
   "execution_count": null,
   "metadata": {
    "collapsed": false
   },
   "outputs": [],
   "source": [
    "G = nx.Graph()\n",
    "cnt = 0\n",
    "\n",
    "for i in zombis.keywords:\n",
    "    cnt +=1\n",
    "    if cnt%300 == 0:\n",
    "        print(cnt)\n",
    "    if i == \"na\":\n",
    "        continue\n",
    "    for j in i:\n",
    "        if j in G.node:\n",
    "            G.node[j][\"weight\"]+=1\n",
    "        else:\n",
    "            G.add_node(j,Label=j,weight=1)\n",
    "    for j in itertools.combinations(i,2):\n",
    "        if j in G.edges():\n",
    "            G.edge[j[0]][j[1]][\"weight\"]+=1\n",
    "        else:\n",
    "            G.add_edge(j[0],j[1],weight=1)\n",
    "nx.write_graphml(G,\"zombies-keywords.graphml\")"
   ]
  }
 ],
 "metadata": {
  "kernelspec": {
   "display_name": "Python 3",
   "language": "python",
   "name": "python3"
  },
  "language_info": {
   "codemirror_mode": {
    "name": "ipython",
    "version": 3
   },
   "file_extension": ".py",
   "mimetype": "text/x-python",
   "name": "python",
   "nbconvert_exporter": "python",
   "pygments_lexer": "ipython3",
   "version": "3.4.3"
  }
 },
 "nbformat": 4,
 "nbformat_minor": 0
}
